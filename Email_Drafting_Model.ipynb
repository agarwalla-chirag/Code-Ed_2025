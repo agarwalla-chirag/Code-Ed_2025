{
  "nbformat": 4,
  "nbformat_minor": 0,
  "metadata": {
    "colab": {
      "provenance": [],
      "gpuType": "T4"
    },
    "kernelspec": {
      "name": "python3",
      "display_name": "Python 3"
    },
    "language_info": {
      "name": "python"
    },
    "accelerator": "GPU"
  },
  "cells": [
    {
      "cell_type": "markdown",
      "source": [
        "# Unified Communication & Compliance Hub\n",
        "**Hackathon:** CodeEd – AI-in-Education, IIT Gandhinagar\n",
        "\n",
        "**Purpose:** This notebook demonstrates an AI-powered email automation system that:\n",
        "1. Classifies incoming communication requests.\n",
        "2. Generates professional multi-paragraph emails.\n",
        "3. Appends compliance/legal disclaimers automatically.\n",
        "4. Provides demo analytics to simulate a dashboard.\n",
        "\n",
        "This MVP is built entirely using free, open-source models\n"
      ],
      "metadata": {
        "id": "4gt7TmqRB0CX"
      }
    },
    {
      "cell_type": "code",
      "source": [
        "!pip install transformers"
      ],
      "metadata": {
        "id": "brO-xb6FT6Qd"
      },
      "execution_count": null,
      "outputs": []
    },
    {
      "cell_type": "code",
      "execution_count": null,
      "metadata": {
        "id": "8VsQapREBBtb"
      },
      "outputs": [],
      "source": [
        "from transformers import pipeline\n",
        "import random"
      ]
    },
    {
      "cell_type": "code",
      "source": [
        "# Classification model\n",
        "classifier = pipeline(\"zero-shot-classification\", model=\"facebook/bart-large-mnli\")\n",
        "\n",
        "# Text generation model\n",
        "generator = pipeline(\"text2text-generation\", model=\"declare-lab/flan-alpaca-large\")"
      ],
      "metadata": {
        "id": "axIDKM3TB65C"
      },
      "execution_count": null,
      "outputs": []
    },
    {
      "cell_type": "code",
      "source": [
        "# Define the labels according to needs of the sender\n",
        "labels = [\"Learner Update\", \"Partner Communication\", \"University Notification\", \"Internal Workflow Update\"]"
      ],
      "metadata": {
        "id": "cz44LUlPBGcX"
      },
      "execution_count": null,
      "outputs": []
    },
    {
      "cell_type": "code",
      "source": [
        "def generate_email(text):\n",
        "    # Classify the input\n",
        "    result = classifier(text, labels)\n",
        "    category = result[\"labels\"][0]\n",
        "\n",
        "    #Generic Prompt for a professional email\n",
        "    prompt = f\"\"\"\n",
        "    Draft a formal {category} email for this request: \"{text}\".\n",
        "    The email must:\n",
        "    1. Begin with a polite greeting (\"Dear...\")\n",
        "    2. Be at least 2 paragraphs, around 120–180 words\n",
        "    3. Include clear instructions and context\n",
        "    4. End with a professional closing (\"Best regards\")\n",
        "    \"\"\"\n",
        "\n",
        "\n",
        "    #Generate the mail\n",
        "    gen = generator(\n",
        "        prompt,\n",
        "        max_new_tokens=300,\n",
        "        no_repeat_ngram_size=3,\n",
        "        repetition_penalty=2.0,\n",
        "        early_stopping=True\n",
        "    )[0]['generated_text']\n",
        "\n",
        "    #Extras\n",
        "    legal = \"\\n\\n---\\nThis email is confidential. Do not share externally.\"\n",
        "\n",
        "    return f\"Category: {category}\\n\\n{gen}{legal}\"\n"
      ],
      "metadata": {
        "id": "l1G8niC-BI54"
      },
      "execution_count": null,
      "outputs": []
    },
    {
      "cell_type": "code",
      "source": [
        "samples = [\n",
        "    \"Submit your homework by tomorrow\",\n",
        "    \"Schedule meeting with partner university\",\n",
        "    \"Curriculum update needs approval\",\n",
        "    \"Reminder: pricing changes effective next month\",\n",
        "    \"The Lab  exam for CS 001 is scheduled on Monday the 3rd of July\"\n",
        "]\n",
        "\n",
        "for s in samples:\n",
        "    print(\"=\"*80)\n",
        "    print(generate_email(s))\n",
        "    print()\n"
      ],
      "metadata": {
        "id": "gVXJEy7gCFaF"
      },
      "execution_count": null,
      "outputs": []
    },
    {
      "cell_type": "code",
      "source": [
        "# Simulated dashboard metrics\n",
        "data = {\n",
        "    \"Learner Update\": random.randint(10, 40),\n",
        "    \"Partner Communication\": random.randint(5, 20),\n",
        "    \"University Notification\": random.randint(2, 15),\n",
        "    \"Internal Workflow Update\": random.randint(5, 25)\n",
        "}\n",
        "\n",
        "print(\"📊 Weekly Communication Summary:\")\n",
        "for k, v in data.items():\n",
        "    print(f\"{k}: {v} messages processed\")\n"
      ],
      "metadata": {
        "id": "qrr9Xf9RCG72"
      },
      "execution_count": null,
      "outputs": []
    },
    {
      "cell_type": "markdown",
      "source": [
        "## Summary\n",
        "\n",
        "This MVP demonstrates:\n",
        "- AI-based classification of communication requests\n",
        "- Automatic generation of formal multi-paragraph emails\n",
        "- Compliance enforcement via legal disclaimer\n",
        "- Dashboard metrics for scale and monitoring\n",
        "\n",
        "### Future Work:\n",
        "- Multi-language support\n",
        "- Integration with email platforms (Gmail, Outlook)\n",
        "- Real-time dashboard with analytics visualization\n",
        "- Template customization for different departments\n"
      ],
      "metadata": {
        "id": "fq2hk51nCITH"
      }
    }
  ]
}